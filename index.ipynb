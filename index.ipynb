{
 "cells": [
  {
   "cell_type": "code",
   "execution_count": 1,
   "metadata": {},
   "outputs": [],
   "source": [
    "import os\n",
    "from bs4 import BeautifulSoup\n",
    "import metapy"
   ]
  },
  {
   "cell_type": "code",
   "execution_count": 2,
   "metadata": {
    "pycharm": {
     "name": "#%%\n"
    }
   },
   "outputs": [],
   "source": [
    "# assuming there is a directory structure `nyt_corpus/data/2000/` \n",
    "# with xml documents available\n",
    "base_dir = 'nyt_corpus/data/2000/'"
   ]
  },
  {
   "cell_type": "code",
   "execution_count": 3,
   "metadata": {},
   "outputs": [],
   "source": [
    "def extract_data(filename):\n",
    "    return BeautifulSoup(open(filename, encoding = 'utf8'))\n",
    "\n",
    "def list_files(dir):\n",
    "    return [os.path.join(r, n) for r, _, f in os.walk(dir) for n in f]"
   ]
  },
  {
   "cell_type": "code",
   "execution_count": 4,
   "metadata": {},
   "outputs": [],
   "source": [
    "# putting all of the xml documents into a list\n",
    "blobs = []\n",
    "for file_path in list_files(base_dir):\n",
    "    blobs.append(extract_data(file_path))"
   ]
  },
  {
   "cell_type": "code",
   "execution_count": 5,
   "metadata": {},
   "outputs": [],
   "source": [
    "# filtering the documents and leaving only those that contain \n",
    "# `Bush` or `Gore` in them\n",
    "filtered = [\n",
    "    blob \n",
    "    for blob in blobs \n",
    "    if [\n",
    "        person.get_text() \n",
    "        for person in blob.find_all('person') \n",
    "        if person.get_text() in ['Bush, George W (Gov)', 'Gore, Al (Vice Pres)']\n",
    "    ]\n",
    "]"
   ]
  },
  {
   "cell_type": "code",
   "execution_count": 6,
   "metadata": {},
   "outputs": [],
   "source": [
    "# processing and tokenizing the documents and putting them into a dictionary\n",
    "tokenized = {}\n",
    "for i, article in enumerate(filtered):\n",
    "    doc = metapy.index.Document()\n",
    "    doc.content(article.body.get_text())\n",
    "    tok = metapy.analyzers.ICUTokenizer(suppress_tags=True)\n",
    "    tok = metapy.analyzers.LowercaseFilter(tok)\n",
    "    tok = metapy.analyzers.LengthFilter(tok, min=2, max=30)\n",
    "    tok.set_content(doc.content())\n",
    "    tokenized[i] = [token for token in tok]"
   ]
  },
  {
   "cell_type": "code",
   "execution_count": 7,
   "metadata": {
    "scrolled": true
   },
   "outputs": [
    {
     "name": "stdout",
     "output_type": "stream",
     "text": [
      "['excerpts', 'from', \"gore's\", 'prepared', 'remarks', 'on', 'foreign', 'policy', 'presidential', 'election', 'of', '2000', 'united', 'states', 'international', 'relations', 'gore', 'al', 'vice', 'pres', 'bush', 'george', 'gov', 'text', 'top', 'news', 'u.s', 'top', 'news', 'top', 'news', 'washington', 'top', 'news', 'washington', 'campaign', '2004', 'candidates', 'top', 'news', 'washington', 'campaign', '2004', 'candidates', 'george', 'bush', 'united', 'states', 'international', 'relations', 'united', 'states', 'international', 'relations', 'presidential', 'election', 'of', '2000', 'presidential', 'election', 'of', '2000', 'international', 'relations', 'presidential', 'elections', 'us', 'presidential', 'elections', 'us', 'elections', 'presidents', 'and', 'presidency', 'us', 'united', 'states', 'politics', 'and', 'government', 'politics', 'and', 'government', 'excerpts', 'from', \"gore's\", 'prepared', 'remarks', 'on', 'foreign', 'policy', 'excerpts', 'from', 'vice', 'pres', 'al', \"gore's\", 'foreign', 'policy', 'address', 'in', 'boston', 'following', 'are', 'excerpts', 'from', 'remarks', 'prepared', 'for', 'delivery', 'yesterday', 'by', 'vice', 'president', 'al', 'gore', 'to', 'the', 'international', 'press', 'institute', 'in', 'boston', 'as', 'provided', 'by', 'the', 'gore', 'campaign', 'twenty', 'five', 'years', 'ago', 'today', 'the', 'last', 'helicopters', 'lifted', 'off', 'from', 'the', 'roof', 'of', 'our', 'embassy', 'in', 'saigon', 'although', 'that', 'brought', 'an', 'end', 'to', 'the', 'war', 'in', 'vietnam', 'conflict', 'witnessed', 'with', 'my', 'own', 'eyes', 'it', 'did', 'not', 'bring', 'an', 'end', 'to', 'its', 'influence', 'on', 'our', 'thinking', 'about', 'foreign', 'policy', 'following', 'are', 'excerpts', 'from', 'remarks', 'prepared', 'for', 'delivery', 'yesterday', 'by', 'vice', 'president', 'al', 'gore', 'to', 'the', 'international', 'press', 'institute', 'in', 'boston', 'as', 'provided', 'by', 'the', 'gore', 'campaign', 'twenty', 'five', 'years', 'ago', 'today', 'the', 'last', 'helicopters', 'lifted', 'off', 'from', 'the', 'roof', 'of', 'our', 'embassy', 'in', 'saigon', 'although', 'that', 'brought', 'an', 'end', 'to', 'the', 'war', 'in', 'vietnam', 'conflict', 'witnessed', 'with', 'my', 'own', 'eyes', 'it', 'did', 'not', 'bring', 'an', 'end', 'to', 'its', 'influence', 'on', 'our', 'thinking', 'about', 'foreign', 'policy', 'even', 'now', 'decade', 'after', 'the', 'end', 'of', 'the', 'cold', 'war', 'we', 'hear', 'echoes', 'of', 'the', 'old', 'arguments', 'some', 'seem', 'to', 'believe', 'that', 'with', 'the', 'fall', 'of', 'the', 'old', 'soviet', 'empire', 'we', 'have', 'nothing', 'more', 'to', 'fear', 'in', 'the', 'world', 'and', 'should', 'dramatically', 'cut', 'our', 'defense', 'budget', 'others', 'keep', 'insisting', 'that', 'we', 'continue', 'to', 'prepare', 'to', 'face', 'down', 'cold', 'war', 'threat', 'that', 'no', 'longer', 'exists', 'and', 'persistently', 'ignore', 'the', 'world', 'as', 'it', 'is', 'believe', 'that', 'both', 'groups', 'are', 'locked', 'in', 'self', 'destructive', 'argument', 'over', 'false', 'choice', 'we', 'are', 'now', 'in', 'new', 'era', 'we', 'are', 'now', 'in', 'global', 'age', 'we', 'need', 'new', 'security', 'agenda', 'for', 'the', 'global', 'age', 'based', 'on', 'forward', 'engagement', 'in', 'the', 'global', 'age', 'we', 'must', 'be', 'prepared', 'to', 'engage', 'in', 'regional', 'conflicts', 'selectively', 'where', 'the', 'stability', 'of', 'region', 'important', 'to', 'our', 'national', 'security', 'is', 'at', 'stake', 'where', 'we', 'can', 'assure', 'ourselves', 'that', 'nothing', 'short', 'of', 'military', 'engagement', 'can', 'secure', 'our', 'national', 'interest', 'where', 'we', 'are', 'certain', 'that', 'the', 'use', 'of', 'military', 'force', 'can', 'succeed', 'in', 'doing', 'so', 'where', 'we', 'have', 'allies', 'willing', 'to', 'help', 'share', 'the', 'burden', 'and', 'where', 'the', 'cost', 'is', 'proportionate', 'america', 'cannot', 'be', 'the', \"world's\", 'policeman', 'but', 'we', 'must', 'reject', 'the', 'new', 'isolationism', 'that', 'says', \"don't\", 'help', 'anywhere', 'because', 'we', 'cannot', 'help', 'everywhere', 'but', 'perhaps', 'the', 'biggest', 'change', 'in', 'our', 'approach', 'to', 'the', 'classic', 'agenda', 'is', 'how', 'we', 'engage', 'two', 'countries', 'that', 'once', 'were', 'only', 'known', 'to', 'us', 'as', 'enemies', 'russia', 'and', 'china', 'during', 'the', 'cold', 'war', 'we', 'worked', 'to', 'contain', 'these', 'two', 'powers', 'and', 'limit', 'their', 'reach', 'our', 'task', 'in', 'the', '21st', 'century', 'is', 'not', 'making', 'them', 'weak', 'but', 'instead', 'to', 'encourage', 'forces', 'of', 'reform', 'that', 'is', 'why', 'we', 'have', 'worked', 'hard', 'these', 'past', 'seven', 'years', 'to', 'help', 'russia', 'make', 'transition', 'to', 'market', 'based', 'democracy', 'we', 'have', 'helped', 'russia', 'privatize', 'its', 'economy', 'and', 'build', 'civil', 'society', 'marked', 'by', 'free', 'elections', 'and', 'an', 'active', 'press', 'we', 'have', 'brought', 'russia', 'into', 'working', 'relationship', 'with', 'nato', 'through', 'the', 'permanent', 'joint', 'council', 'and', 'the', 'partnership', 'for', 'peace', 'program', 'we', 'have', 'been', 'able', 'to', 'work', 'with', 'russian', 'forces', 'successfully', 'inside', 'nato', 'framework', 'in', 'the', 'balkans', 'we', 'have', 'helped', 'safeguard', 'russian', 'nuclear', 'material', 'against', 'the', 'danger', 'of', 'theft', 'we', 'have', 'made', 'it', 'possible', 'for', 'thousands', 'of', \"russia's\", 'nuclear', 'scientists', 'and', 'weapons', 'experts', 'to', 'find', 'peaceful', 'pursuits', 'and', 'we', 'have', 'helped', 'russia', 'to', 'reduce', 'its', 'nuclear', 'arsenal', 'by', 'nearly', '5,000', 'warheads', 'this', 'work', 'has', 'not', 'been', 'without', 'difficulty', 'or', 'controversy', 'we', 'strongly', 'disagree', 'with', \"russia's\", 'course', 'in', 'chechnya', 'russia', 'must', 'intensify', 'its', 'own', 'work', 'to', 'stop', 'the', 'flow', 'of', 'dangerous', 'technologies', 'that', 'irresponsible', 'groups', 'and', 'rogue', 'states', 'can', 'use', 'to', 'create', 'weapons', 'of', 'mass', 'destruction', 'russia', 'must', 'still', 'take', 'decisive', 'steps', 'to', 'combat', 'corruption', 'and', 'achieve', 'reform', 'but', 'new', 'cold', 'war', 'is', 'not', 'the', 'right', 'path', 'to', 'progress', 'engaging', 'russia', 'is', 'the', 'right', 'thing', 'to', 'do', 'for', 'these', 'same', 'reasons', 'we', 'must', 'also', 'follow', 'policy', 'toward', 'china', 'that', 'is', 'focused', 'on', 'results', 'not', 'rhetoric', 'make', 'no', 'mistake', 'we', 'have', 'strong', 'disagreements', 'with', 'china', 'over', 'human', 'rights', 'and', 'religious', 'freedom', 'and', 'over', 'chinese', 'treatment', 'of', 'tibet', 'these', 'issues', 'cannot', 'and', 'must', 'not', 'be', 'ignored', 'or', 'marginalized', 'they', 'must', 'constantly', 'be', 'pursued', 'human', 'rights', 'and', 'human', 'dignity', 'speak', 'to', 'the', 'deepest', 'bonds', 'we', 'share', 'across', 'all', 'borders', 'and', 'nationalities', 'america', 'has', 'to', 'prod', 'china', 'to', 'make', 'progress', 'in', 'all', 'these', 'areas', 'and', 'as', 'president', \"that's\", 'exactly', 'what', \"i'll\", 'do', 'we', 'also', 'have', 'concerns', 'over', 'tensions', 'building', 'between', 'china', 'and', 'taiwan', 'we', 'need', 'to', 'maintain', 'our', 'commitment', 'to', 'the', 'one', 'china', 'policy', 'but', 'urge', 'china', 'and', 'taiwan', 'to', 'intensify', 'their', 'dialogue', 'and', 'to', 'resolve', 'their', 'problems', 'by', 'peaceful', 'means', 'the', 'administration', 'is', 'honoring', 'its', 'obligation', 'to', 'make', 'defensive', 'weapons', 'available', 'to', 'taiwan', 'but', 'am', 'deeply', 'concerned', 'that', 'those', 'in', 'the', 'congress', 'who', 'are', 'pushing', 'the', 'taiwan', 'security', 'enhancement', 'act', 'are', 'blind', 'to', 'its', 'consequences', 'sharp', 'deterioration', 'in', 'the', 'security', 'of', 'the', 'region', 'it', 'is', 'wrong', 'to', 'isolate', 'and', 'demonize', 'china', 'to', 'build', 'wall', 'when', 'we', 'need', 'to', 'build', 'bridge', 'strongly', 'support', 'permanent', 'normal', 'trade', 'relations', 'with', 'china', 'and', 'will', 'continue', 'to', 'press', 'the', 'congress', 'to', 'support', 'it', 'this', 'year', 'support', \"china's\", 'membership', 'in', 'the', 'world', 'trade', 'organization', 'to', 'make', 'china', 'abide', 'by', 'the', 'same', 'rules', 'of', 'international', 'trade', 'that', 'we', 'follow', 'today', 'from', 'what', 'we', 'can', 'tell', 'of', 'his', 'foreign', 'policy', 'governor', 'bush', 'does', 'not', 'prepare', 'us', 'to', 'meet', 'the', 'grand', 'challenges', 'of', 'both', 'the', 'classic', 'and', 'new', 'security', 'agendas', 'governor', 'bush', 'dangerously', 'fixates', 'on', 'the', 'cold', 'war', 'past', 'when', 'speaking', 'of', 'the', 'use', 'of', 'force', 'he', 'suggests', 'that', 'he', 'would', 'not', 'intervene', 'to', 'relieve', 'even', 'the', 'brutal', 'repression', 'of', 'ethnic', 'cleansing', 'and', 'genocide', 'no', 'wonder', 'it', 'took', 'him', 'six', 'weeks', 'to', 'say', 'anything', 'about', 'our', 'action', 'against', 'the', 'ethnic', 'cleansing', 'in', 'kosovo', 'is', 'that', 'the', 'right', 'message', 'for', 'america', 'to', 'send', 'to', 'people', 'around', 'the', 'globe', 'struggling', 'for', 'freedom', 'stuck', 'in', 'cold', 'war', 'mindset', 'governor', 'bush', 'continues', 'to', 'view', 'russia', 'and', 'china', 'primarily', 'as', 'present', 'or', 'future', 'enemies', 'while', 'we', 'must', 'remain', 'vigilant', 'against', 'any', 'deterioration', 'in', 'our', 'relationships', 'the', 'reality', 'of', 'the', 'global', 'age', 'is', 'that', 'russia', 'and', 'china', 'are', 'indeed', 'competitors', 'but', 'also', 'vital', 'partners', 'in', 'our', 'efforts', 'to', 'tackle', 'problems', 'menacing', 'to', 'us', 'all', 'just', 'this', 'past', 'week', 'governor', 'bush', 'used', 'his', 'brief', 'meeting', 'with', 'russian', 'foreign', 'minister', 'ivanov', 'to', 'issue', 'warning', 'that', 'his', 'intention', 'would', 'be', 'to', 'build', 'and', 'deploy', 'global', 'star', 'wars', 'system', 'that', 'he', 'believes', 'could', 'defend', 'the', 'u.s', 'and', 'all', 'our', 'allies', 'against', 'any', 'missile', 'launch', 'from', 'any', 'source', 'in', 'the', '1990', 'most', 'serious', 'analysts', 'took', 'look', 'at', 'the', 'implausibility', 'of', 'this', 'endeavor', 'the', 'fantastical', 'price', 'that', 'our', 'taxpayers', 'would', 'be', 'expected', 'to', 'pay', 'and', 'the', 'dangerously', 'destabilizing', 'consequences', 'of', 'traveling', 'down', 'that', 'path', 'and', 'rejected', 'this', 'notion', 'governor', 'bush', 'wishes', 'to', 'return', 'to', 'it', 'and', 'chose', 'the', 'worst', 'possible', 'venue', 'in', 'which', 'to', 'launch', 'for', 'lack', 'of', 'better', 'phrase', 'his', 'risky', 'foreign', 'policy', 'scheme', 'when', 'it', 'comes', 'to', 'the', 'challenges', 'of', 'the', 'new', 'security', 'agenda', 'governor', \"bush's\", 'foreign', 'policy', 'is', 'noticeably', 'blank', 'although', 'africa', 'represents', 'vast', 'untapped', 'market', 'has', 'major', 'health', 'and', 'environmental', 'concerns', 'that', 'directly', 'impact', 'us', 'and', 'the', 'reaches', 'of', 'modern', 'terrorism', 'took', 'american', 'lives', 'in', 'two', 'of', 'our', 'embassies', 'on', 'that', 'continent', 'governor', 'bush', 'said', 'that', 'africa', \"doesn't\", 'fit', 'into', 'the', 'national', 'strategic', 'interests', 'is', 'that', 'responsible', 'assessment', 'of', 'our', 'national', 'interest', 'one', 'has', 'to', 'assume', 'that', 'these', 'gaps', 'in', 'governor', \"bush's\", 'foreign', 'policy', 'views', 'and', 'experience', 'will', 'be', 'filled', 'by', 'the', 'ideologies', 'and', 'inveterate', 'antipathies', 'of', 'his', 'party', 'the', 'right', 'wing', 'partisan', 'isolationism', 'of', 'the', 'republican', 'congressional', 'leadership', 'since', '1994', 'the', 'republicans', 'in', 'congress', 'have', 'recklessly', 'tossed', 'aside', 'decades', 'of', 'bipartisan', 'cooperation', 'on', 'foreign', 'policy', 'they', 'have', 'refused', 'to', 'adequately', 'fund', 'our', 'diplomatic', 'and', 'international', 'development', 'efforts', 'from', 'promoting', 'peace', 'in', 'the', 'middle', 'east', 'to', 'fighting', 'drugs', 'in', 'south', 'america', 'they', 'have', 'held', 'our', 'contributions', 'to', 'the', 'united', 'nations', 'hostage', 'to', 'their', 'own', 'political', 'agenda', 'for', 'years', 'they', 'have', 'repeatedly', 'tried', 'to', 'sabotage', 'this', \"administration's\", 'programs', 'even', 'in', 'places', 'like', 'bosnia', 'and', 'kosovo', 'where', 'what', 'is', 'needed', 'is', 'steadiness', 'and', 'continuity', 'of', 'purpose', 'they', 'have', 'made', 'themselves', 'the', 'sworn', 'enemies', 'of', 'worldwide', 'effort', 'to', 'deal', 'with', 'the', 'global', 'environment', 'and', 'in', 'the', 'end', 'despite', 'their', 'constant', 'assertion', 'of', 'concern', 'for', 'our', 'alliances', 'they', 'have', 'rejected', 'the', 'comprehensive', 'test', 'ban', 'treaty', 'in', 'one', 'blatant', 'partisan', 'move', 'they', 'have', 'profoundly', 'shaken', 'the', 'confidence', 'of', 'our', 'allies', 'in', 'american', 'steadiness', 'purpose', 'and', 'in', 'our', 'capacity', 'to', 'lead', 'governor', 'bush', 'joined', 'with', 'the', 'isolationist', 'partisan', 'republican', 'majority', 'in', 'congress', 'in', 'opposing', 'the', 'comprehensive', 'test', 'ban', 'treaty', 'he', 'chose', 'politics', 'over', 'principle', 'believe', 'america', 'can', 'do', 'better', 'for', 'our', 'own', 'national', 'security', 'and', 'for', 'the', 'ideals', 'we', 'must', 'model', 'to', 'the', 'world']\n"
     ]
    }
   ],
   "source": [
    "print(tokenized[0])"
   ]
  }
 ],
 "metadata": {
  "kernelspec": {
   "display_name": "Python 3",
   "language": "python",
   "name": "python3"
  },
  "language_info": {
   "codemirror_mode": {
    "name": "ipython",
    "version": 3
   },
   "file_extension": ".py",
   "mimetype": "text/x-python",
   "name": "python",
   "nbconvert_exporter": "python",
   "pygments_lexer": "ipython3",
   "version": "3.7.9"
  }
 },
 "nbformat": 4,
 "nbformat_minor": 1
}
